{
  "nbformat": 4,
  "nbformat_minor": 0,
  "metadata": {
    "colab": {
      "name": "Basic Programming Concepts.ipynb",
      "provenance": [],
      "authorship_tag": "ABX9TyOFZdY+VHSc1j05MNAKcXD7",
      "include_colab_link": true
    },
    "kernelspec": {
      "name": "python3",
      "display_name": "Python 3"
    },
    "language_info": {
      "name": "python"
    }
  },
  "cells": [
    {
      "cell_type": "markdown",
      "metadata": {
        "id": "view-in-github",
        "colab_type": "text"
      },
      "source": [
        "<a href=\"https://colab.research.google.com/github/Jaomiew/data_viz_2022/blob/main/Basic_Programming_Concepts.ipynb\" target=\"_parent\"><img src=\"https://colab.research.google.com/assets/colab-badge.svg\" alt=\"Open In Colab\"/></a>"
      ]
    },
    {
      "cell_type": "markdown",
      "source": [
        "Funtions ()"
      ],
      "metadata": {
        "id": "DvPL6ZbCEfRH"
      }
    },
    {
      "cell_type": "markdown",
      "source": [
        "Looping (for)"
      ],
      "metadata": {
        "id": "_xDAVswgEoan"
      }
    },
    {
      "cell_type": "code",
      "source": [
        "def function_f1(x):\n",
        "     a = x**2\n",
        "     y = a + 75\n",
        "     return y\n",
        "\n",
        "print('done!')"
      ],
      "metadata": {
        "colab": {
          "base_uri": "https://localhost:8080/"
        },
        "id": "Y1-DYa4cGzLM",
        "outputId": "3e7d4a68-6299-4854-aefc-86448d057e89"
      },
      "execution_count": null,
      "outputs": [
        {
          "output_type": "stream",
          "name": "stdout",
          "text": [
            "done!\n"
          ]
        }
      ]
    },
    {
      "cell_type": "code",
      "source": [
        "function_f1(3)"
      ],
      "metadata": {
        "colab": {
          "base_uri": "https://localhost:8080/"
        },
        "id": "7Bs3BYiAHPTs",
        "outputId": "1911ebaf-74b1-40ba-caa5-268952da4fad"
      },
      "execution_count": null,
      "outputs": [
        {
          "output_type": "execute_result",
          "data": {
            "text/plain": [
              "84"
            ]
          },
          "metadata": {},
          "execution_count": 5
        }
      ]
    },
    {
      "cell_type": "markdown",
      "source": [
        "funcion มีทั้งหมด 4 ส่วน\n",
        "\n",
        "1. บอก python ว่าเราจะเขียนฟังก์ชั่น ชื่ออะไร def funcion_name():(ขาดไม่ได้)\n",
        "2. กำหนดตัวแปรที่จะเป็น Input (ขาดได้)\n",
        "3. ส่วนประมวลผล do_something with input to get Output (ขาดไม่ได้)\n",
        "4. ส่วน Output return output (ขาดได้) เราใช้ เว้นวรรค (indent) เพื่อบอกขอบเขตของ code"
      ],
      "metadata": {
        "id": "E8z-cigzISGM"
      }
    },
    {
      "cell_type": "markdown",
      "source": [
        "ตัวอย่าง function ที่มีส่วนประกอบครบ"
      ],
      "metadata": {
        "id": "V3YRsCFMI5zE"
      }
    },
    {
      "cell_type": "code",
      "source": [
        "def function_f1(x):\n",
        "     a = x**2\n",
        "     y = a + 75\n",
        "     return y"
      ],
      "metadata": {
        "id": "gWCMlIGeIvai"
      },
      "execution_count": null,
      "outputs": []
    },
    {
      "cell_type": "markdown",
      "source": [
        "ตัวอย่าง function ที่ไม่มี input"
      ],
      "metadata": {
        "id": "01lukU9kJFU2"
      }
    },
    {
      "cell_type": "code",
      "source": [
        "def pi_v():\n",
        "    y = 3.14159265359\n",
        "    return y"
      ],
      "metadata": {
        "id": "yWGAwVeHJLZ2"
      },
      "execution_count": null,
      "outputs": []
    },
    {
      "cell_type": "code",
      "source": [
        "piv = pi_v()\n",
        "circle_area_r2 = piv*(2**2)\n",
        "print(circle_area_r2)"
      ],
      "metadata": {
        "colab": {
          "base_uri": "https://localhost:8080/"
        },
        "id": "sGwlDgmCJjJC",
        "outputId": "98429138-9105-4496-f677-9e076b1e18f5"
      },
      "execution_count": null,
      "outputs": [
        {
          "output_type": "stream",
          "name": "stdout",
          "text": [
            "12.56637061436\n"
          ]
        }
      ]
    },
    {
      "cell_type": "markdown",
      "source": [
        "Function ไม่มี process ไม่ได้"
      ],
      "metadata": {
        "id": "-n12BfrCMDQe"
      }
    },
    {
      "cell_type": "code",
      "source": [
        "def function_a():"
      ],
      "metadata": {
        "colab": {
          "base_uri": "https://localhost:8080/",
          "height": 132
        },
        "id": "y0VJF0aLMFh0",
        "outputId": "47c20fcb-4cdf-4756-d997-a1827a33bf17"
      },
      "execution_count": null,
      "outputs": [
        {
          "output_type": "error",
          "ename": "SyntaxError",
          "evalue": "ignored",
          "traceback": [
            "\u001b[0;36m  File \u001b[0;32m\"<ipython-input-20-07a0750214a8>\"\u001b[0;36m, line \u001b[0;32m1\u001b[0m\n\u001b[0;31m    def function_a():\u001b[0m\n\u001b[0m                     ^\u001b[0m\n\u001b[0;31mSyntaxError\u001b[0m\u001b[0;31m:\u001b[0m unexpected EOF while parsing\n"
          ]
        }
      ]
    },
    {
      "cell_type": "markdown",
      "source": [
        "Function ที่ไม่มี output"
      ],
      "metadata": {
        "id": "weIpVUamKUk9"
      }
    },
    {
      "cell_type": "code",
      "source": [
        "def print_name_id(name,id):\n",
        "    print(f'ชื่อ {name} รหัสประจำตัว {id}')"
      ],
      "metadata": {
        "id": "5CO8rFr-Kaey"
      },
      "execution_count": null,
      "outputs": []
    },
    {
      "cell_type": "code",
      "source": [
        "print_name_id('วนิศรา','623021054-8')"
      ],
      "metadata": {
        "colab": {
          "base_uri": "https://localhost:8080/"
        },
        "id": "sb4iAIKsLGnC",
        "outputId": "929ecb2a-6b84-4a1b-e036-a03c91c5aa37"
      },
      "execution_count": null,
      "outputs": [
        {
          "output_type": "stream",
          "name": "stdout",
          "text": [
            "ชื่อ วนิศรา รหัสประจำตัว 623021054-8\n"
          ]
        }
      ]
    },
    {
      "cell_type": "code",
      "source": [
        "a = print_name_id('ณัฐวนิศราธิดา','623021054-8')"
      ],
      "metadata": {
        "colab": {
          "base_uri": "https://localhost:8080/"
        },
        "id": "8dr4aLb_LYVs",
        "outputId": "e0b31deb-6ac1-4ed4-bc91-baf8f8553d5c"
      },
      "execution_count": null,
      "outputs": [
        {
          "output_type": "stream",
          "name": "stdout",
          "text": [
            "ชื่อ ณัฐวนิศราธิดา รหัสประจำตัว 623021054-8\n"
          ]
        }
      ]
    },
    {
      "cell_type": "code",
      "source": [
        "a"
      ],
      "metadata": {
        "id": "o9BjVWtSLdIJ"
      },
      "execution_count": null,
      "outputs": []
    },
    {
      "cell_type": "code",
      "source": [
        "print('วนิศรา' ,end = '->')\n",
        "print('623021054-8')"
      ],
      "metadata": {
        "colab": {
          "base_uri": "https://localhost:8080/"
        },
        "id": "miSJRi84Pzqn",
        "outputId": "6adf0a79-3cbb-4b9d-85ad-2edb41b804eb"
      },
      "execution_count": null,
      "outputs": [
        {
          "output_type": "stream",
          "name": "stdout",
          "text": [
            "วนิศรา->623021054-8\n"
          ]
        }
      ]
    },
    {
      "cell_type": "code",
      "source": [
        "print('วนิศรา' ,'623021054-8')"
      ],
      "metadata": {
        "colab": {
          "base_uri": "https://localhost:8080/"
        },
        "id": "bx_6ZKJzQVsr",
        "outputId": "6be01826-3c24-49c0-eeb9-7adec6296653"
      },
      "execution_count": null,
      "outputs": [
        {
          "output_type": "stream",
          "name": "stdout",
          "text": [
            "วนิศรา 623021054-8\n"
          ]
        }
      ]
    },
    {
      "cell_type": "code",
      "source": [
        "print('วนิศรา ' ,' 623021054-8' , sep = '&')"
      ],
      "metadata": {
        "colab": {
          "base_uri": "https://localhost:8080/"
        },
        "id": "LW49RuuMQeAZ",
        "outputId": "51bc4ed3-f419-4e5c-80b7-2cba70a0b7d3"
      },
      "execution_count": null,
      "outputs": [
        {
          "output_type": "stream",
          "name": "stdout",
          "text": [
            "วนิศรา & 623021054-8\n"
          ]
        }
      ]
    },
    {
      "cell_type": "markdown",
      "source": [
        ""
      ],
      "metadata": {
        "id": "uIb_WwV0Q-4Z"
      }
    }
  ]
}