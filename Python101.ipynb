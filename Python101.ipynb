{
  "nbformat": 4,
  "nbformat_minor": 0,
  "metadata": {
    "colab": {
      "name": "Python101.ipynb",
      "provenance": [],
      "toc_visible": true,
      "authorship_tag": "ABX9TyNvsRsWhIThGClSVVqagmb1",
      "include_colab_link": true
    },
    "kernelspec": {
      "name": "python3",
      "display_name": "Python 3"
    },
    "language_info": {
      "name": "python"
    }
  },
  "cells": [
    {
      "cell_type": "markdown",
      "metadata": {
        "id": "view-in-github",
        "colab_type": "text"
      },
      "source": [
        "<a href=\"https://colab.research.google.com/github/Jaomiew/data_viz_2022/blob/main/Python101.ipynb\" target=\"_parent\"><img src=\"https://colab.research.google.com/assets/colab-badge.svg\" alt=\"Open In Colab\"/></a>"
      ]
    },
    {
      "cell_type": "markdown",
      "source": [
        "ข้อความในช่อง Text เป็นภาษา Markdown(https://www.markdownguide.org/cheat-sheet/)"
      ],
      "metadata": {
        "id": "d32w8pnRNnFa"
      }
    },
    {
      "cell_type": "markdown",
      "source": [
        "# **การจัดการข้อความในการแสดงผล (Print)**\n",
        "\n",
        "\n",
        "\n",
        "\n",
        "\n",
        "\n",
        "\n",
        "\n",
        "\n",
        "\n"
      ],
      "metadata": {
        "id": "UDmeRvUTKnfV"
      }
    },
    {
      "cell_type": "markdown",
      "source": [
        "## **string (ข้อความ)**\n",
        "\n",
        "###test heading 3"
      ],
      "metadata": {
        "id": "s_asHpBOPhpb"
      }
    },
    {
      "cell_type": "code",
      "source": [
        "'สถิติ'  # ' quote"
      ],
      "metadata": {
        "colab": {
          "base_uri": "https://localhost:8080/",
          "height": 35
        },
        "id": "fHEnbozfLp_Q",
        "outputId": "4b1ce5dd-b221-47ee-9dac-8eda88424c17"
      },
      "execution_count": null,
      "outputs": [
        {
          "output_type": "execute_result",
          "data": {
            "application/vnd.google.colaboratory.intrinsic+json": {
              "type": "string"
            },
            "text/plain": [
              "'สถิติ'"
            ]
          },
          "metadata": {},
          "execution_count": 1
        }
      ]
    },
    {
      "cell_type": "code",
      "source": [
        "\"สถิติ\"  # '' quote"
      ],
      "metadata": {
        "colab": {
          "base_uri": "https://localhost:8080/",
          "height": 35
        },
        "id": "AILPoEt5MPod",
        "outputId": "6d70ab15-80b5-4059-e088-96617f8365db"
      },
      "execution_count": null,
      "outputs": [
        {
          "output_type": "execute_result",
          "data": {
            "application/vnd.google.colaboratory.intrinsic+json": {
              "type": "string"
            },
            "text/plain": [
              "'สถิติ'"
            ]
          },
          "metadata": {},
          "execution_count": 2
        }
      ]
    },
    {
      "cell_type": "code",
      "source": [
        "1 + 3 # ถ้าเป็นตัวเลขมันจะเอามาบวก ลบกันได้เลย"
      ],
      "metadata": {
        "colab": {
          "base_uri": "https://localhost:8080/"
        },
        "id": "AzWuPTYiMyYp",
        "outputId": "68d4a322-642e-42d1-f24b-d93427f645c4"
      },
      "execution_count": null,
      "outputs": [
        {
          "output_type": "execute_result",
          "data": {
            "text/plain": [
              "4"
            ]
          },
          "metadata": {},
          "execution_count": 3
        }
      ]
    },
    {
      "cell_type": "code",
      "source": [
        "'1' + '3'  # string + string คือการต่อ string"
      ],
      "metadata": {
        "colab": {
          "base_uri": "https://localhost:8080/",
          "height": 35
        },
        "id": "dsO-bMT1Mz90",
        "outputId": "94109295-b709-4905-ea9b-fe02bc82717d"
      },
      "execution_count": null,
      "outputs": [
        {
          "output_type": "execute_result",
          "data": {
            "application/vnd.google.colaboratory.intrinsic+json": {
              "type": "string"
            },
            "text/plain": [
              "'13'"
            ]
          },
          "metadata": {},
          "execution_count": 9
        }
      ]
    },
    {
      "cell_type": "code",
      "source": [
        "1 - 3  # ถ้าเป็นตัวเลขมันจะเอามาบวก ลบกันได้เลย"
      ],
      "metadata": {
        "colab": {
          "base_uri": "https://localhost:8080/"
        },
        "id": "pb2-ia5FNGye",
        "outputId": "44950a45-5769-416e-ef1b-506cbc1ff5b4"
      },
      "execution_count": null,
      "outputs": [
        {
          "output_type": "execute_result",
          "data": {
            "text/plain": [
              "-2"
            ]
          },
          "metadata": {},
          "execution_count": 11
        }
      ]
    },
    {
      "cell_type": "code",
      "source": [
        "'1'  - '3'    # ถ้าเป็นข้อความมันจะเอามาบวกลบกันไม่ได้"
      ],
      "metadata": {
        "colab": {
          "base_uri": "https://localhost:8080/",
          "height": 166
        },
        "id": "j8qRxolaNTpM",
        "outputId": "49779676-8ed0-4f81-ad7b-bd4eb4405af1"
      },
      "execution_count": null,
      "outputs": [
        {
          "output_type": "error",
          "ename": "TypeError",
          "evalue": "ignored",
          "traceback": [
            "\u001b[0;31m---------------------------------------------------------------------------\u001b[0m",
            "\u001b[0;31mTypeError\u001b[0m                                 Traceback (most recent call last)",
            "\u001b[0;32m<ipython-input-13-82beb71a9f09>\u001b[0m in \u001b[0;36m<module>\u001b[0;34m()\u001b[0m\n\u001b[0;32m----> 1\u001b[0;31m \u001b[0;34m'1'\u001b[0m  \u001b[0;34m-\u001b[0m \u001b[0;34m'3'\u001b[0m\u001b[0;34m\u001b[0m\u001b[0;34m\u001b[0m\u001b[0m\n\u001b[0m",
            "\u001b[0;31mTypeError\u001b[0m: unsupported operand type(s) for -: 'str' and 'str'"
          ]
        }
      ]
    },
    {
      "cell_type": "markdown",
      "source": [
        "## **print (ข้อความ)**\n",
        "\n",
        "```\n",
        "print (ข้อความ)\n",
        "```"
      ],
      "metadata": {
        "id": "FER1uSeJN4jl"
      }
    },
    {
      "cell_type": "code",
      "source": [
        "print('ข้อความที่อยากให้ print')    # print ธรรมดา จะแสดงข้อความออกมา"
      ],
      "metadata": {
        "colab": {
          "base_uri": "https://localhost:8080/"
        },
        "id": "MzNFQfUXONYa",
        "outputId": "f226b40a-9e77-4fa4-b3a3-deca9df9c58d"
      },
      "execution_count": null,
      "outputs": [
        {
          "output_type": "stream",
          "name": "stdout",
          "text": [
            "ข้อความที่อยากให้ print\n"
          ]
        }
      ]
    },
    {
      "cell_type": "markdown",
      "source": [
        "# **ตัวแปร (Variables)**"
      ],
      "metadata": {
        "id": "d7jP3vNfMg_k"
      }
    },
    {
      "cell_type": "code",
      "source": [
        "vartest1 = 1+3   # เอาค่าไปเก็บไว้ในตัวแปร vartest1 เป็นการสร้างตัวแปรมาเพื่อรับข้อมูล"
      ],
      "metadata": {
        "id": "Ie5k3BLaOxDG"
      },
      "execution_count": null,
      "outputs": []
    },
    {
      "cell_type": "code",
      "source": [
        "vartest1   # แสดงผลค่าของตัวแปร vartest1"
      ],
      "metadata": {
        "colab": {
          "base_uri": "https://localhost:8080/"
        },
        "id": "grM9GBs7O6Vw",
        "outputId": "2850412e-20fb-40a3-91c4-6408e49c5670"
      },
      "execution_count": null,
      "outputs": [
        {
          "output_type": "execute_result",
          "data": {
            "text/plain": [
              "4"
            ]
          },
          "metadata": {},
          "execution_count": 16
        }
      ]
    },
    {
      "cell_type": "code",
      "source": [
        "print(vartest1)   # แสดงผลค่าของตัวแปร vartest1"
      ],
      "metadata": {
        "colab": {
          "base_uri": "https://localhost:8080/"
        },
        "id": "M_obWYXGO8-s",
        "outputId": "5f42f932-030e-4150-f740-71807d400fda"
      },
      "execution_count": null,
      "outputs": [
        {
          "output_type": "stream",
          "name": "stdout",
          "text": [
            "4\n"
          ]
        }
      ]
    },
    {
      "cell_type": "code",
      "source": [
        "vartest2 = '1' + '3'    # เอาค่าไปเก็บไว้ในตัวแปร vartest1 แต่เป็นการสร้างตัวแปรขึ้นมารับข้อมูลที่เป็น string"
      ],
      "metadata": {
        "id": "kyraeuj4PFmY"
      },
      "execution_count": null,
      "outputs": []
    },
    {
      "cell_type": "code",
      "source": [
        "vartest2   # แสดงผลค่าของตัวแปร vartest2"
      ],
      "metadata": {
        "colab": {
          "base_uri": "https://localhost:8080/",
          "height": 35
        },
        "id": "-7wR-5iPPLLb",
        "outputId": "04f9ddf8-bc96-4055-9a0c-ae3353303772"
      },
      "execution_count": null,
      "outputs": [
        {
          "output_type": "execute_result",
          "data": {
            "application/vnd.google.colaboratory.intrinsic+json": {
              "type": "string"
            },
            "text/plain": [
              "'13'"
            ]
          },
          "metadata": {},
          "execution_count": 20
        }
      ]
    },
    {
      "cell_type": "code",
      "source": [
        "print(vartest2)   #แสดงผลค่าของตัวแปร vartest2 ซึ่งแสดงผลลัพธ์ออกมา แต่ไม่รู้ว่าเป็นข้อมูลชนิดไหน เป็น string หรือ ตัวเลข"
      ],
      "metadata": {
        "colab": {
          "base_uri": "https://localhost:8080/"
        },
        "id": "nRE2Z2wdPO-3",
        "outputId": "a9d1dbf2-be3e-4679-ac07-62a2adc8927d"
      },
      "execution_count": null,
      "outputs": [
        {
          "output_type": "stream",
          "name": "stdout",
          "text": [
            "13\n"
          ]
        }
      ]
    },
    {
      "cell_type": "markdown",
      "source": [
        "## ข้อกำหนดในการตั้งชื่อตัวแปร\n",
        "\n",
        "1.   ตั้งให้สื่อความหมาย\n",
        "2.   ตั้งให้เป็นภาษาอังกฤษ\n",
        "3.   ใช้ตัวเลขผสมกับตัวหนังสือได้  แต่ห้ามขึ้นต้นด้วยตัวเลข\n",
        "4.   ห้ามมีเว้นวรรคในชื่อตัวแปร\n",
        "5.   ตัวใหญ่ ตัวเล็กค่าไม่เท่ากัน\n",
        "\n",
        "\n",
        "\n",
        "\n"
      ],
      "metadata": {
        "id": "H9kgORlcPrQr"
      }
    },
    {
      "cell_type": "code",
      "source": [
        "1a = 7   #ใช้ตัวเลขผสมกับตัวหนังสือได้ แต่ห้ามขึ้นต้นด้วยตัวเลข"
      ],
      "metadata": {
        "colab": {
          "base_uri": "https://localhost:8080/",
          "height": 132
        },
        "id": "lVyh_EXZQTJN",
        "outputId": "9b78833e-0680-4486-f319-f39d4d99d45b"
      },
      "execution_count": null,
      "outputs": [
        {
          "output_type": "error",
          "ename": "SyntaxError",
          "evalue": "ignored",
          "traceback": [
            "\u001b[0;36m  File \u001b[0;32m\"<ipython-input-23-fef70cc47db2>\"\u001b[0;36m, line \u001b[0;32m1\u001b[0m\n\u001b[0;31m    1a = 7\u001b[0m\n\u001b[0m     ^\u001b[0m\n\u001b[0;31mSyntaxError\u001b[0m\u001b[0;31m:\u001b[0m invalid syntax\n"
          ]
        }
      ]
    },
    {
      "cell_type": "code",
      "source": [
        "variable a = 1  #ห้ามมีเว้นวรรคในชื่อตัวแปร"
      ],
      "metadata": {
        "colab": {
          "base_uri": "https://localhost:8080/",
          "height": 132
        },
        "id": "r_owr_YeQeuu",
        "outputId": "e76e58d4-d586-4874-d21a-2879929d56ec"
      },
      "execution_count": null,
      "outputs": [
        {
          "output_type": "error",
          "ename": "SyntaxError",
          "evalue": "ignored",
          "traceback": [
            "\u001b[0;36m  File \u001b[0;32m\"<ipython-input-24-81f2a2c0c675>\"\u001b[0;36m, line \u001b[0;32m1\u001b[0m\n\u001b[0;31m    variable a = 1\u001b[0m\n\u001b[0m             ^\u001b[0m\n\u001b[0;31mSyntaxError\u001b[0m\u001b[0;31m:\u001b[0m invalid syntax\n"
          ]
        }
      ]
    },
    {
      "cell_type": "markdown",
      "source": [
        "## **Advanced Printing**\n",
        "\n",
        "เราสามารถ print code  ร่วมกับข้อความได้\n",
        "\n",
        "```python\n",
        "print (f'ข้อความ{code}')\n",
        "```\n",
        "\n"
      ],
      "metadata": {
        "id": "KPnZEP4dQ1V3"
      }
    },
    {
      "cell_type": "code",
      "source": [
        "print (f'หนึ่ง บวก สอง (1+2) เท่ากับ สาม ({1+2})')    #{} Curly  Brackets สิ่งที่อยู่ใน {} จะเป็น code"
      ],
      "metadata": {
        "colab": {
          "base_uri": "https://localhost:8080/"
        },
        "id": "gQCVzqi9Rfsv",
        "outputId": "5e053b5f-9d53-40a5-f1d5-6dfa2b9ddda5"
      },
      "execution_count": null,
      "outputs": [
        {
          "output_type": "stream",
          "name": "stdout",
          "text": [
            "หนึ่ง บวก สอง (1+2) เท่ากับ สาม (3)\n"
          ]
        }
      ]
    },
    {
      "cell_type": "code",
      "source": [
        "a = 1\n",
        "b = 2\n",
        "print   (f'หนึ่ง บวก สอง ({a}+{b}) เท่ากับ สาม ({a+b})')  "
      ],
      "metadata": {
        "colab": {
          "base_uri": "https://localhost:8080/"
        },
        "id": "FaTVAC1BSQgi",
        "outputId": "3c7b488a-c306-4f0d-e405-676ad42a9fa2"
      },
      "execution_count": null,
      "outputs": [
        {
          "output_type": "stream",
          "name": "stdout",
          "text": [
            "หนึ่ง บวก สอง (1+2) เท่ากับ สาม (3)\n"
          ]
        }
      ]
    },
    {
      "cell_type": "code",
      "source": [
        "a = 5   #ลำดับการรันมีผลต่อค่าที่จะรันออกมา\n",
        "b = 2"
      ],
      "metadata": {
        "id": "SZqW_yw4Swfk"
      },
      "execution_count": null,
      "outputs": []
    },
    {
      "cell_type": "code",
      "source": [
        "print  (f' {a}+{b} เท่ากับ {a+b}')  "
      ],
      "metadata": {
        "colab": {
          "base_uri": "https://localhost:8080/"
        },
        "id": "zHKUxVe5S1gy",
        "outputId": "66233df2-05ee-4820-d9d6-21d9ffe2ead6"
      },
      "execution_count": null,
      "outputs": [
        {
          "output_type": "stream",
          "name": "stdout",
          "text": [
            " 5+2 เท่ากับ 7\n"
          ]
        }
      ]
    },
    {
      "cell_type": "code",
      "source": [
        "a = -1\n",
        "b = 11"
      ],
      "metadata": {
        "id": "NALtOhh-U7SC"
      },
      "execution_count": null,
      "outputs": []
    },
    {
      "cell_type": "code",
      "source": [
        "print  (f' {a}+{b} = {a+b}')  "
      ],
      "metadata": {
        "colab": {
          "base_uri": "https://localhost:8080/"
        },
        "id": "_ZhPe-NKUx0x",
        "outputId": "04d4eaee-ff8b-4d46-8e8d-db2d721f9e57"
      },
      "execution_count": null,
      "outputs": [
        {
          "output_type": "stream",
          "name": "stdout",
          "text": [
            " -1+11 = 10\n"
          ]
        }
      ]
    },
    {
      "cell_type": "markdown",
      "source": [
        "## **ชนิดของตัวแปร**"
      ],
      "metadata": {
        "id": "hOvpOMu9VHXk"
      }
    },
    {
      "cell_type": "markdown",
      "source": [
        "### char (acter)(ตัวอักษร)"
      ],
      "metadata": {
        "id": "g8T43IenVNvi"
      }
    },
    {
      "cell_type": "code",
      "source": [
        "a = 'Ch'    # มีตัวเดียวเป็น character มีหลายตัวเป็น string"
      ],
      "metadata": {
        "id": "7LkNyBdtVpY8"
      },
      "execution_count": null,
      "outputs": []
    },
    {
      "cell_type": "code",
      "source": [
        "b = 'aracter'"
      ],
      "metadata": {
        "id": "nQ9ahfkiWB5X"
      },
      "execution_count": null,
      "outputs": []
    },
    {
      "cell_type": "code",
      "source": [
        "print (a+b)  # print แบบธรรมดา"
      ],
      "metadata": {
        "colab": {
          "base_uri": "https://localhost:8080/"
        },
        "id": "Hx-jO7cKWN-W",
        "outputId": "481d06ec-6b62-41d6-a083-53f0fdf6916a"
      },
      "execution_count": null,
      "outputs": [
        {
          "output_type": "stream",
          "name": "stdout",
          "text": [
            "Character\n"
          ]
        }
      ]
    },
    {
      "cell_type": "code",
      "source": [
        "print  (f' a = {a} b ={b}, then  {a}+{b} = {a+b}')    # Advanced Printing สามารถเอามาบวกกันได้"
      ],
      "metadata": {
        "colab": {
          "base_uri": "https://localhost:8080/"
        },
        "id": "gOXxQ_BiWi4q",
        "outputId": "d28c3499-582f-4f14-bd28-707edc3c65f0"
      },
      "execution_count": null,
      "outputs": [
        {
          "output_type": "stream",
          "name": "stdout",
          "text": [
            " a = Ch b =aracter, then  Ch+aracter = Character\n"
          ]
        }
      ]
    },
    {
      "cell_type": "code",
      "source": [
        "A = 'c'"
      ],
      "metadata": {
        "id": "CxtWg966WYm_"
      },
      "execution_count": null,
      "outputs": []
    },
    {
      "cell_type": "code",
      "source": [
        "B = 'a'"
      ],
      "metadata": {
        "id": "G7zXeqTWWbgm"
      },
      "execution_count": null,
      "outputs": []
    },
    {
      "cell_type": "code",
      "source": [
        "print (A+B)"
      ],
      "metadata": {
        "colab": {
          "base_uri": "https://localhost:8080/"
        },
        "id": "rtSbfsOxWdnF",
        "outputId": "5bd521fd-ce97-4d3a-fe05-78be171982cd"
      },
      "execution_count": null,
      "outputs": [
        {
          "output_type": "stream",
          "name": "stdout",
          "text": [
            "ca\n"
          ]
        }
      ]
    },
    {
      "cell_type": "markdown",
      "source": [
        "### **int(eger)(จำนวนเต็ม)**"
      ],
      "metadata": {
        "id": "vD4jewYjXH9o"
      }
    },
    {
      "cell_type": "code",
      "source": [
        "int_a = 7\n",
        "int_b = 2"
      ],
      "metadata": {
        "id": "9z4LueXjXRr5"
      },
      "execution_count": null,
      "outputs": []
    },
    {
      "cell_type": "code",
      "source": [
        "int_c = int_a + int_b   # เอาตัวแปรมารับ\n",
        "print(int_c)   # แสดงผลออกมา"
      ],
      "metadata": {
        "colab": {
          "base_uri": "https://localhost:8080/"
        },
        "id": "wDame5HeXaKM",
        "outputId": "d3ce0e64-e64a-45aa-d041-e29f928177be"
      },
      "execution_count": null,
      "outputs": [
        {
          "output_type": "stream",
          "name": "stdout",
          "text": [
            "9\n"
          ]
        }
      ]
    },
    {
      "cell_type": "markdown",
      "source": [
        "### **Float (จำนวนจริง ทศนิยม)**"
      ],
      "metadata": {
        "id": "CpIY7FPWYDPv"
      }
    },
    {
      "cell_type": "code",
      "source": [
        "fl_a = 7.      # ไม่จำเป็นต้องใส่ 0 ต่อก็ได้ \n",
        "fl_b = 2.571"
      ],
      "metadata": {
        "id": "hwRV2GqxYLDQ"
      },
      "execution_count": null,
      "outputs": []
    },
    {
      "cell_type": "code",
      "source": [
        "fl_a"
      ],
      "metadata": {
        "colab": {
          "base_uri": "https://localhost:8080/"
        },
        "id": "-BxvZlD3Yr15",
        "outputId": "ed584bfb-81f9-4a58-93be-049fdcd0190b"
      },
      "execution_count": null,
      "outputs": [
        {
          "output_type": "execute_result",
          "data": {
            "text/plain": [
              "7.0"
            ]
          },
          "metadata": {},
          "execution_count": 53
        }
      ]
    },
    {
      "cell_type": "code",
      "source": [
        "fl_b"
      ],
      "metadata": {
        "colab": {
          "base_uri": "https://localhost:8080/"
        },
        "id": "ClQsfhbDZNNZ",
        "outputId": "9f3d561c-9290-47bf-90b3-8ee1eb0be5a6"
      },
      "execution_count": null,
      "outputs": [
        {
          "output_type": "execute_result",
          "data": {
            "text/plain": [
              "2.571"
            ]
          },
          "metadata": {},
          "execution_count": 54
        }
      ]
    },
    {
      "cell_type": "code",
      "source": [
        "print (fl_a)"
      ],
      "metadata": {
        "colab": {
          "base_uri": "https://localhost:8080/"
        },
        "id": "VweZRaH9ZQCl",
        "outputId": "8f99e2dc-fae8-4d0c-ac2e-9946302b17cb"
      },
      "execution_count": null,
      "outputs": [
        {
          "output_type": "stream",
          "name": "stdout",
          "text": [
            "7.0\n"
          ]
        }
      ]
    },
    {
      "cell_type": "markdown",
      "source": [
        "### **Boomlean (True หรือ False) ตรรกศาสตร์**"
      ],
      "metadata": {
        "id": "SUuZ6L6Vaa42"
      }
    },
    {
      "cell_type": "code",
      "source": [
        "b_T =True"
      ],
      "metadata": {
        "id": "WgUk0fuGasGi"
      },
      "execution_count": null,
      "outputs": []
    },
    {
      "cell_type": "code",
      "source": [
        "b_F = False"
      ],
      "metadata": {
        "id": "i7DYzv3yax9_"
      },
      "execution_count": null,
      "outputs": []
    },
    {
      "cell_type": "markdown",
      "source": [
        "### **Complex (จำนวนเชิงซ้อน)**"
      ],
      "metadata": {
        "id": "-1xarxQAcW_J"
      }
    },
    {
      "cell_type": "code",
      "source": [
        "x = 1+2j"
      ],
      "metadata": {
        "id": "dH027LM7cdVV"
      },
      "execution_count": null,
      "outputs": []
    },
    {
      "cell_type": "markdown",
      "source": [
        "### **เราสามารถตรวจสอบชนิดของตัวแปรด้วยคำสั่ง typr()**\n",
        "\n",
        "\n",
        "\n",
        "```\n",
        "# typr()\n",
        "```\n",
        "\n"
      ],
      "metadata": {
        "id": "NJeFd_LDcmYP"
      }
    },
    {
      "cell_type": "code",
      "source": [
        "print (f'ตัวแปร x ค่าคือ {x} ชนิด {type (x)}')"
      ],
      "metadata": {
        "colab": {
          "base_uri": "https://localhost:8080/"
        },
        "id": "r1Y-tdl1c0II",
        "outputId": "3cfbb920-9750-4efa-fb11-1643e4ed0bee"
      },
      "execution_count": null,
      "outputs": [
        {
          "output_type": "stream",
          "name": "stdout",
          "text": [
            "ตัวแปร x ค่าคือ (1+2j) ชนิด <class 'complex'>\n"
          ]
        }
      ]
    },
    {
      "cell_type": "code",
      "source": [
        "print (f'ตัวแปร A ค่าคือ {A} ชนิด {type (A)}')"
      ],
      "metadata": {
        "colab": {
          "base_uri": "https://localhost:8080/"
        },
        "id": "toBoZuKkdFpD",
        "outputId": "f1289544-d484-405f-a6b7-37c547df752a"
      },
      "execution_count": null,
      "outputs": [
        {
          "output_type": "stream",
          "name": "stdout",
          "text": [
            "ตัวแปร A ค่าคือ c ชนิด <class 'str'>\n"
          ]
        }
      ]
    },
    {
      "cell_type": "code",
      "source": [
        "print (f'ตัวแปร a ค่าคือ {a} ชนิด {type (a)}')"
      ],
      "metadata": {
        "colab": {
          "base_uri": "https://localhost:8080/"
        },
        "id": "68E-JiOzdNKd",
        "outputId": "a3103438-cf4c-4494-ba84-35608020822f"
      },
      "execution_count": null,
      "outputs": [
        {
          "output_type": "stream",
          "name": "stdout",
          "text": [
            "ตัวแปร a ค่าคือ Ch ชนิด <class 'str'>\n"
          ]
        }
      ]
    },
    {
      "cell_type": "markdown",
      "source": [
        "## **การแปลงชนิดของตัวแปร (Variable Casting)**"
      ],
      "metadata": {
        "id": "OKNf4mAxdj80"
      }
    },
    {
      "cell_type": "code",
      "source": [
        "print(f' int_a = {int_a} int_b = {int_b} fl_a = {fl_a} fl_b = {fl_b}')"
      ],
      "metadata": {
        "colab": {
          "base_uri": "https://localhost:8080/"
        },
        "id": "BbiN871ud35V",
        "outputId": "8e497d3d-5ea6-4133-a34c-07cf304022eb"
      },
      "execution_count": null,
      "outputs": [
        {
          "output_type": "stream",
          "name": "stdout",
          "text": [
            " int_a = 7 int_b = 2 fl_a = 7.0 fl_b = 2.571\n"
          ]
        }
      ]
    },
    {
      "cell_type": "code",
      "source": [
        "str_a = '6'\n",
        "str_b = '-2'"
      ],
      "metadata": {
        "id": "ydw_Iji1egxN"
      },
      "execution_count": null,
      "outputs": []
    },
    {
      "cell_type": "code",
      "source": [
        "str_a2int = int (str_a)\n",
        "print(f'ตัวแปร str_a2int ค่าคือ {str_a2int} ชนิด {type (str_a2int)}')"
      ],
      "metadata": {
        "colab": {
          "base_uri": "https://localhost:8080/"
        },
        "id": "LBPoldE4ew0I",
        "outputId": "67277159-c55a-4783-f127-00b57e6d8b35"
      },
      "execution_count": null,
      "outputs": [
        {
          "output_type": "stream",
          "name": "stdout",
          "text": [
            "ตัวแปร str_a2int ค่าคือ 6 ชนิด <class 'int'>\n"
          ]
        }
      ]
    },
    {
      "cell_type": "code",
      "source": [
        "str_a2int + int_a"
      ],
      "metadata": {
        "colab": {
          "base_uri": "https://localhost:8080/"
        },
        "id": "u2FMFUgSfRrL",
        "outputId": "5a7775b6-5126-468d-c3e5-510ab2ed7171"
      },
      "execution_count": null,
      "outputs": [
        {
          "output_type": "execute_result",
          "data": {
            "text/plain": [
              "13"
            ]
          },
          "metadata": {},
          "execution_count": 68
        }
      ]
    },
    {
      "cell_type": "code",
      "source": [
        "str_a + int_a   # ไม่สามารถนำ string ไปบวกกับ int ได้"
      ],
      "metadata": {
        "colab": {
          "base_uri": "https://localhost:8080/",
          "height": 166
        },
        "id": "Zpuae0TDfa1C",
        "outputId": "9fe0dfec-ecbb-4515-84b7-8d2308f4c134"
      },
      "execution_count": null,
      "outputs": [
        {
          "output_type": "error",
          "ename": "TypeError",
          "evalue": "ignored",
          "traceback": [
            "\u001b[0;31m---------------------------------------------------------------------------\u001b[0m",
            "\u001b[0;31mTypeError\u001b[0m                                 Traceback (most recent call last)",
            "\u001b[0;32m<ipython-input-69-f0968e4d612f>\u001b[0m in \u001b[0;36m<module>\u001b[0;34m()\u001b[0m\n\u001b[0;32m----> 1\u001b[0;31m \u001b[0mstr_a\u001b[0m \u001b[0;34m+\u001b[0m \u001b[0mint_a\u001b[0m\u001b[0;34m\u001b[0m\u001b[0;34m\u001b[0m\u001b[0m\n\u001b[0m",
            "\u001b[0;31mTypeError\u001b[0m: can only concatenate str (not \"int\") to str"
          ]
        }
      ]
    },
    {
      "cell_type": "code",
      "source": [
        "int_a + str_a   # ไม่สามารถนำ int ไปบวกกับ string ได้"
      ],
      "metadata": {
        "colab": {
          "base_uri": "https://localhost:8080/",
          "height": 166
        },
        "id": "Gnb8-pSAfhkz",
        "outputId": "220c659d-c510-4c80-8ce8-6ebdf538ce3a"
      },
      "execution_count": null,
      "outputs": [
        {
          "output_type": "error",
          "ename": "TypeError",
          "evalue": "ignored",
          "traceback": [
            "\u001b[0;31m---------------------------------------------------------------------------\u001b[0m",
            "\u001b[0;31mTypeError\u001b[0m                                 Traceback (most recent call last)",
            "\u001b[0;32m<ipython-input-70-6d08941122bb>\u001b[0m in \u001b[0;36m<module>\u001b[0;34m()\u001b[0m\n\u001b[0;32m----> 1\u001b[0;31m \u001b[0mint_a\u001b[0m \u001b[0;34m+\u001b[0m \u001b[0mstr_a\u001b[0m\u001b[0;34m\u001b[0m\u001b[0;34m\u001b[0m\u001b[0m\n\u001b[0m",
            "\u001b[0;31mTypeError\u001b[0m: unsupported operand type(s) for +: 'int' and 'str'"
          ]
        }
      ]
    },
    {
      "cell_type": "code",
      "source": [
        "int (fl_b)   # int เป็นจำนวนเต็ม ผลลัพธ์ที่ได้จะเป็นจำนวนเต็ม"
      ],
      "metadata": {
        "colab": {
          "base_uri": "https://localhost:8080/"
        },
        "id": "Gm5m24N0f7cL",
        "outputId": "d8a8c13e-0d66-4ae0-fe14-86b20e75f71b"
      },
      "execution_count": null,
      "outputs": [
        {
          "output_type": "execute_result",
          "data": {
            "text/plain": [
              "2"
            ]
          },
          "metadata": {},
          "execution_count": 71
        }
      ]
    },
    {
      "cell_type": "code",
      "source": [
        "float (int_a)   # float เป็นทศนิยม ผลลัพธ์ที่ได้จะเป็นทศนิยม"
      ],
      "metadata": {
        "colab": {
          "base_uri": "https://localhost:8080/"
        },
        "id": "uUgcA-FmgbVw",
        "outputId": "0ea922c5-ffda-4679-c8be-04e1ccdd975d"
      },
      "execution_count": null,
      "outputs": [
        {
          "output_type": "execute_result",
          "data": {
            "text/plain": [
              "7.0"
            ]
          },
          "metadata": {},
          "execution_count": 72
        }
      ]
    },
    {
      "cell_type": "code",
      "source": [
        "str(fl_b)   # str เป็น string หรือ ข้อความ ผลลัพธ์ที่ได้จะเป็นข้อความ"
      ],
      "metadata": {
        "colab": {
          "base_uri": "https://localhost:8080/",
          "height": 35
        },
        "id": "sGEBZ2bjghyb",
        "outputId": "ac62fc1d-cb34-4dd8-a1c8-726ef0da5b67"
      },
      "execution_count": null,
      "outputs": [
        {
          "output_type": "execute_result",
          "data": {
            "application/vnd.google.colaboratory.intrinsic+json": {
              "type": "string"
            },
            "text/plain": [
              "'2.571'"
            ]
          },
          "metadata": {},
          "execution_count": 73
        }
      ]
    },
    {
      "cell_type": "markdown",
      "source": [
        "## **Operation เอาตัวแปรสองตัวมาทำอะไรกัน**"
      ],
      "metadata": {
        "id": "BfN26SY5g7W8"
      }
    },
    {
      "cell_type": "markdown",
      "source": [
        "### Opretors (+ , - , * , / , % , & , or) "
      ],
      "metadata": {
        "id": "aCn3pgbWhDsr"
      }
    },
    {
      "cell_type": "code",
      "source": [
        "fl_a + int_b   # เอามาบวกกัน พื้นที่ในการเก็บตัวแปรจะใหญ่ขึ้นจะกลายเป็น float หรือทศนิยม"
      ],
      "metadata": {
        "colab": {
          "base_uri": "https://localhost:8080/"
        },
        "id": "Yxhch-2ghiSF",
        "outputId": "b329097e-9c27-4f76-dc34-2e2b6c758392"
      },
      "execution_count": null,
      "outputs": [
        {
          "output_type": "execute_result",
          "data": {
            "text/plain": [
              "9.0"
            ]
          },
          "metadata": {},
          "execution_count": 74
        }
      ]
    },
    {
      "cell_type": "code",
      "source": [
        "9%2   # % modulo คือการหารเอาเศษ\n",
        "         #เป็นเลขคู่หารด้วย 2 จะเหลือเศษ 0 แต่ถ้าเป็นเลขคี่จะเหลือเศษ 1"
      ],
      "metadata": {
        "colab": {
          "base_uri": "https://localhost:8080/"
        },
        "id": "sVdfLub4h0AZ",
        "outputId": "f9dcec2b-9662-4af5-e52a-4e7dc81f1a9d"
      },
      "execution_count": null,
      "outputs": [
        {
          "output_type": "execute_result",
          "data": {
            "text/plain": [
              "1"
            ]
          },
          "metadata": {},
          "execution_count": 75
        }
      ]
    },
    {
      "cell_type": "code",
      "source": [
        "100%2  # modulo (%) คือ การหารเอาเศษ \n",
        "         #เป็นเลขคู่หารด้วย 2 จะเหลือเศษ 0 แต่ถ้าเป็นเลขคี่จะเหลือเศษ 1"
      ],
      "metadata": {
        "colab": {
          "base_uri": "https://localhost:8080/"
        },
        "id": "tBWE8HPpiMpx",
        "outputId": "edd0768b-e027-4385-b652-abb426e07fd7"
      },
      "execution_count": null,
      "outputs": [
        {
          "output_type": "execute_result",
          "data": {
            "text/plain": [
              "0"
            ]
          },
          "metadata": {},
          "execution_count": 76
        }
      ]
    },
    {
      "cell_type": "code",
      "source": [
        "int_a / int_b"
      ],
      "metadata": {
        "colab": {
          "base_uri": "https://localhost:8080/"
        },
        "id": "rjwoKt3eiWb0",
        "outputId": "3740f469-20e9-4ce0-eb45-e5f4ea976ac7"
      },
      "execution_count": null,
      "outputs": [
        {
          "output_type": "execute_result",
          "data": {
            "text/plain": [
              "3.5"
            ]
          },
          "metadata": {},
          "execution_count": 81
        }
      ]
    },
    {
      "cell_type": "code",
      "source": [
        "int(int_a/int_b)   # ผลลัพธ์ที่แสดงออกมาจะกลายเป็น int หรือจำนวนเต็ม"
      ],
      "metadata": {
        "colab": {
          "base_uri": "https://localhost:8080/"
        },
        "id": "1yE_pYw4is08",
        "outputId": "489346ab-c72c-4d4c-e029-1d0ef8e20e80"
      },
      "execution_count": null,
      "outputs": [
        {
          "output_type": "execute_result",
          "data": {
            "text/plain": [
              "3"
            ]
          },
          "metadata": {},
          "execution_count": 83
        }
      ]
    },
    {
      "cell_type": "code",
      "source": [
        "False & False   # False and False เป็น False"
      ],
      "metadata": {
        "colab": {
          "base_uri": "https://localhost:8080/"
        },
        "id": "Fuf_ykYjjNph",
        "outputId": "1c17e311-dc6c-4c2f-b260-0f89c8537305"
      },
      "execution_count": null,
      "outputs": [
        {
          "output_type": "execute_result",
          "data": {
            "text/plain": [
              "False"
            ]
          },
          "metadata": {},
          "execution_count": 84
        }
      ]
    },
    {
      "cell_type": "code",
      "source": [
        "False & True   # False and True เป็น False"
      ],
      "metadata": {
        "colab": {
          "base_uri": "https://localhost:8080/"
        },
        "id": "4uEEXyc6jSkA",
        "outputId": "a8398326-952c-4d9a-babf-b9e3e09bc8f6"
      },
      "execution_count": null,
      "outputs": [
        {
          "output_type": "execute_result",
          "data": {
            "text/plain": [
              "False"
            ]
          },
          "metadata": {},
          "execution_count": 85
        }
      ]
    },
    {
      "cell_type": "code",
      "source": [
        "False | True    # False or True เป็น True"
      ],
      "metadata": {
        "colab": {
          "base_uri": "https://localhost:8080/"
        },
        "id": "-6Q6jacZjWUd",
        "outputId": "52b6bdeb-6906-4a21-e125-5b2210e10963"
      },
      "execution_count": null,
      "outputs": [
        {
          "output_type": "execute_result",
          "data": {
            "text/plain": [
              "True"
            ]
          },
          "metadata": {},
          "execution_count": 86
        }
      ]
    },
    {
      "cell_type": "markdown",
      "source": [
        "## **String operation**"
      ],
      "metadata": {
        "id": "LMmINrBhQzKV"
      }
    }
  ]
}